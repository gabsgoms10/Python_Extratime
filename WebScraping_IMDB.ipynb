{
 "cells": [
  {
   "cell_type": "code",
   "execution_count": 47,
   "metadata": {},
   "outputs": [],
   "source": [
    "from bs4 import BeautifulSoup\n",
    "import requests\n",
    "import pandas as pd\n",
    "import openpyxl"
   ]
  },
  {
   "cell_type": "code",
   "execution_count": 44,
   "metadata": {},
   "outputs": [],
   "source": [
    "\n",
    "base = requests.get(\"https://www.imdb.com/chart/top/\")\n",
    "base.raise_for_status()\n",
    "soup = BeautifulSoup(base.text, 'html.parser')\n",
    "\n",
    "movies = soup.find(\"tbody\", class_=\"lister-list\").find_all(\"tr\")\n",
    "\n",
    "\n",
    "def getelements(movie):\n",
    "    position = movies.index(movie) + 1\n",
    "    name = movie.find(\"td\", class_=\"titleColumn\").a.text\n",
    "    year = movies[0].find(\"td\", class_=\"titleColumn\").text\n",
    "    year = year[len(year)-6:len(year)-2]\n",
    "    rating = movie.find(\"td\", class_=\"ratingColumn imdbRating\").strong.text\n",
    "    data = [position, name, year, rating]\n",
    "    return data\n",
    "\n",
    "Alldata = list()\n",
    "for movie in movies:\n",
    "    Alldata.append(getelements(movie))\n"
   ]
  },
  {
   "cell_type": "code",
   "execution_count": 65,
   "metadata": {},
   "outputs": [],
   "source": [
    "dataframe = pd.DataFrame(Alldata, columns=[\"Postion\", \"Name\", \"Year\",\"rating\"])\n",
    "dataframe.to_excel(\"Filmes.xlsx\")"
   ]
  }
 ],
 "metadata": {
  "kernelspec": {
   "display_name": "Python 3",
   "language": "python",
   "name": "python3"
  },
  "language_info": {
   "codemirror_mode": {
    "name": "ipython",
    "version": 3
   },
   "file_extension": ".py",
   "mimetype": "text/x-python",
   "name": "python",
   "nbconvert_exporter": "python",
   "pygments_lexer": "ipython3",
   "version": "3.10.10"
  },
  "orig_nbformat": 4
 },
 "nbformat": 4,
 "nbformat_minor": 2
}
